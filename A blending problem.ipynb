{
 "cells": [
  {
   "cell_type": "code",
   "execution_count": 1,
   "metadata": {},
   "outputs": [],
   "source": [
    "from pulp import *"
   ]
  },
  {
   "cell_type": "code",
   "execution_count": 2,
   "metadata": {},
   "outputs": [],
   "source": [
    "Ingredients = ['CHICKEN', 'BEEF', 'MUTTON', 'RICE', 'WHEAT', 'GEL']\n",
    "costs = {'CHICKEN': 0.013, \n",
    "         'BEEF': 0.008, \n",
    "         'MUTTON': 0.010, \n",
    "         'RICE': 0.002, \n",
    "         'WHEAT': 0.005, \n",
    "         'GEL': 0.001}\n",
    "\n",
    "proteinPercent = {'CHICKEN': 0.100, \n",
    "                  'BEEF': 0.200, \n",
    "                  'MUTTON': 0.150, \n",
    "                  'RICE': 0.000, \n",
    "                  'WHEAT': 0.040, \n",
    "                  'GEL': 0.000}\n",
    "\n",
    "fatPercent = {'CHICKEN': 0.080, \n",
    "              'BEEF': 0.100, \n",
    "              'MUTTON': 0.110, \n",
    "              'RICE': 0.010, \n",
    "              'WHEAT': 0.010, \n",
    "              'GEL': 0.000}\n",
    "\n",
    "fibrePercent = {'CHICKEN': 0.001, \n",
    "                'BEEF': 0.005, \n",
    "                'MUTTON': 0.003, \n",
    "                'RICE': 0.100, \n",
    "                'WHEAT': 0.150, \n",
    "                'GEL': 0.000}\n",
    "\n",
    "saltPercent = {'CHICKEN': 0.002, \n",
    "               'BEEF': 0.005, \n",
    "               'MUTTON': 0.007, \n",
    "               'RICE': 0.002, \n",
    "               'WHEAT': 0.008, \n",
    "               'GEL': 0.000}"
   ]
  },
  {
   "cell_type": "code",
   "execution_count": 3,
   "metadata": {},
   "outputs": [
    {
     "name": "stderr",
     "output_type": "stream",
     "text": [
      "/Users/yukaisun/opt/anaconda3/lib/python3.8/site-packages/pulp/pulp.py:1352: UserWarning: Spaces are not permitted in the name. Converted to '_'\n",
      "  warnings.warn(\"Spaces are not permitted in the name. Converted to '_'\")\n"
     ]
    }
   ],
   "source": [
    "prob = LpProblem(\"The Whiskas Problem\", LpMinimize)"
   ]
  },
  {
   "cell_type": "code",
   "execution_count": 4,
   "metadata": {},
   "outputs": [],
   "source": [
    "ingredient_vars = LpVariable.dicts(\"Ingr\", Ingredients, 0)"
   ]
  },
  {
   "cell_type": "code",
   "execution_count": 5,
   "metadata": {},
   "outputs": [],
   "source": [
    "prob += lpSum([costs[i]*ingredient_vars[i] for i in Ingredients])"
   ]
  },
  {
   "cell_type": "code",
   "execution_count": 6,
   "metadata": {},
   "outputs": [
    {
     "data": {
      "text/plain": [
       "[0.013*Ingr_CHICKEN + 0.0,\n",
       " 0.008*Ingr_BEEF + 0.0,\n",
       " 0.01*Ingr_MUTTON + 0.0,\n",
       " 0.002*Ingr_RICE + 0.0,\n",
       " 0.005*Ingr_WHEAT + 0.0,\n",
       " 0.001*Ingr_GEL + 0.0]"
      ]
     },
     "execution_count": 6,
     "metadata": {},
     "output_type": "execute_result"
    }
   ],
   "source": [
    "[costs[i]*ingredient_vars[i] for i in Ingredients]"
   ]
  },
  {
   "cell_type": "code",
   "execution_count": 7,
   "metadata": {},
   "outputs": [],
   "source": [
    "prob += lpSum([ingredient_vars[i] for i in Ingredients]) == 100 #總共100g\n",
    "prob += lpSum([proteinPercent[i] * ingredient_vars[i] for i in Ingredients]) >= 8.0 #至少有8g protein\n",
    "prob += lpSum([fatPercent[i] * ingredient_vars[i] for i in Ingredients]) >= 6.0 #至少有6g fat\n",
    "prob += lpSum([fibrePercent[i] * ingredient_vars[i] for i in Ingredients]) <= 2.0 #fibre不超過2g\n",
    "prob += lpSum([saltPercent[i] * ingredient_vars[i] for i in Ingredients]) <= 0.4 #salt不超過0.4g"
   ]
  },
  {
   "cell_type": "code",
   "execution_count": 8,
   "metadata": {},
   "outputs": [
    {
     "name": "stdout",
     "output_type": "stream",
     "text": [
      "The_Whiskas_Problem:\n",
      "MINIMIZE\n",
      "0.008*Ingr_BEEF + 0.013*Ingr_CHICKEN + 0.001*Ingr_GEL + 0.01*Ingr_MUTTON + 0.002*Ingr_RICE + 0.005*Ingr_WHEAT + 0.0\n",
      "SUBJECT TO\n",
      "_C1: Ingr_BEEF + Ingr_CHICKEN + Ingr_GEL + Ingr_MUTTON + Ingr_RICE\n",
      " + Ingr_WHEAT = 100\n",
      "\n",
      "_C2: 0.2 Ingr_BEEF + 0.1 Ingr_CHICKEN + 0.15 Ingr_MUTTON + 0.04 Ingr_WHEAT\n",
      " >= 8\n",
      "\n",
      "_C3: 0.1 Ingr_BEEF + 0.08 Ingr_CHICKEN + 0.11 Ingr_MUTTON + 0.01 Ingr_RICE\n",
      " + 0.01 Ingr_WHEAT >= 6\n",
      "\n",
      "_C4: 0.005 Ingr_BEEF + 0.001 Ingr_CHICKEN + 0.003 Ingr_MUTTON + 0.1 Ingr_RICE\n",
      " + 0.15 Ingr_WHEAT <= 2\n",
      "\n",
      "_C5: 0.005 Ingr_BEEF + 0.002 Ingr_CHICKEN + 0.007 Ingr_MUTTON\n",
      " + 0.002 Ingr_RICE + 0.008 Ingr_WHEAT <= 0.4\n",
      "\n",
      "VARIABLES\n",
      "Ingr_BEEF Continuous\n",
      "Ingr_CHICKEN Continuous\n",
      "Ingr_GEL Continuous\n",
      "Ingr_MUTTON Continuous\n",
      "Ingr_RICE Continuous\n",
      "Ingr_WHEAT Continuous\n",
      "\n"
     ]
    }
   ],
   "source": [
    "print(prob)"
   ]
  },
  {
   "cell_type": "code",
   "execution_count": 9,
   "metadata": {},
   "outputs": [
    {
     "name": "stdout",
     "output_type": "stream",
     "text": [
      "Welcome to the CBC MILP Solver \n",
      "Version: 2.10.3 \n",
      "Build Date: Dec 15 2019 \n",
      "\n",
      "command line - /Users/yukaisun/opt/anaconda3/lib/python3.8/site-packages/pulp/solverdir/cbc/osx/64/cbc /var/folders/s1/w69x8mm13wz_1npk05p7rzy00000gn/T/0332ceda9ca84bb39df3470a28dd0bc7-pulp.mps timeMode elapsed branch printingOptions all solution /var/folders/s1/w69x8mm13wz_1npk05p7rzy00000gn/T/0332ceda9ca84bb39df3470a28dd0bc7-pulp.sol (default strategy 1)\n",
      "At line 2 NAME          MODEL\n",
      "At line 3 ROWS\n",
      "At line 10 COLUMNS\n",
      "At line 42 RHS\n",
      "At line 48 BOUNDS\n",
      "At line 49 ENDATA\n",
      "Problem MODEL has 5 rows, 6 columns and 25 elements\n",
      "Coin0008I MODEL read with 0 errors\n",
      "Option for timeMode changed from cpu to elapsed\n",
      "Presolve 5 (0) rows, 6 (0) columns and 25 (0) elements\n",
      "0  Obj 0 Primal inf 405.05674 (3)\n",
      "2  Obj 0.52\n",
      "Optimal - objective value 0.52\n",
      "Optimal objective 0.52 - 2 iterations time 0.002\n",
      "Option for printingOptions changed from normal to all\n",
      "Total time (CPU seconds):       0.00   (Wallclock seconds):       0.01\n",
      "\n"
     ]
    },
    {
     "data": {
      "text/plain": [
       "1"
      ]
     },
     "execution_count": 9,
     "metadata": {},
     "output_type": "execute_result"
    }
   ],
   "source": [
    "prob.solve()"
   ]
  },
  {
   "cell_type": "code",
   "execution_count": 10,
   "metadata": {},
   "outputs": [
    {
     "name": "stdout",
     "output_type": "stream",
     "text": [
      "Status: Optimal\n",
      "Ingr_BEEF = 60.0\n",
      "Ingr_CHICKEN = 0.0\n",
      "Ingr_GEL = 40.0\n",
      "Ingr_MUTTON = 0.0\n",
      "Ingr_RICE = 0.0\n",
      "Ingr_WHEAT = 0.0\n",
      "obj= 0.52\n"
     ]
    }
   ],
   "source": [
    "#查看目前解的狀態\n",
    "print(\"Status:\", LpStatus[prob.status])\n",
    "\n",
    "#印出解及目標值\n",
    "for v in prob.variables():\n",
    "    print(v.name, \"=\", v.varValue)\n",
    "print('obj=',value(prob.objective))\n",
    "#解的另一種方式\n",
    "# for i in Ingredients:\n",
    "#   print(ingredient_vars[i],\"=\",ingredient_vars[i].value())"
   ]
  }
 ],
 "metadata": {
  "kernelspec": {
   "display_name": "base",
   "language": "python",
   "name": "python3"
  },
  "language_info": {
   "codemirror_mode": {
    "name": "ipython",
    "version": 3
   },
   "file_extension": ".py",
   "mimetype": "text/x-python",
   "name": "python",
   "nbconvert_exporter": "python",
   "pygments_lexer": "ipython3",
   "version": "3.8.17"
  }
 },
 "nbformat": 4,
 "nbformat_minor": 2
}
